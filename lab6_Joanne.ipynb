{
 "cells": [
  {
   "cell_type": "markdown",
   "metadata": {},
   "source": [
    "### 1. Align the reads to human genomes\n",
    "You’re going to want to map these reads to the human genome first to remove any\n",
    "contamination. To do this, check out the sample bowtie2 command from the PowerPoint"
   ]
  },
  {
   "cell_type": "markdown",
   "metadata": {},
   "source": [
    "#### In terminal:\n",
    "#### bowtie2 –p 4 --very-fast --no-unal -x /data/hg19/hg19 \\-U /data/lab6/illumina_reads.fastq -S output.sam --un unaligned.fastq\n",
    "\n",
    "```-x``` specifies the path to the database you want to align your reads to.In this case, is the database containing the human genome (data/hg19/hg19)\n",
    "\n",
    "```-U``` specifies the path to your input reads in FASTQ format. In this case, the input read is the read from the sequencing run at (data/lab6/illumina_reads.fastq)\n",
    "\n",
    "```-S``` specifies the path to the output SAM file\n",
    "\n",
    "```--un``` tells Bowtie to dump the reads that couldn’t be aligned into a separate FASTQ file.This file should contain the reads that cannot be aligned from the read to the human database we have.\n",
    "\n",
    "#### Result (the output message):\n",
    "\n",
    "1124714 reads; of these:   \n",
    "  1124714 (100.00%) were unpaired; of these:    \n",
    "   1028379 (91.43%) aligned 0 times      \n",
    "    87274 (7.76%) aligned exactly 1 time   \n",
    "    9061 (0.81%) aligned >1 times    \n",
    "8.57% overall alignment rate    \n",
    "    \n",
    "#### Analysis:\n",
    "In all the reads, there are 7.76% aligned 1 time with the human genome and 0.81% aligned more than 1 time. Since we are trying to find reads aligned to the S. oneidensis reference genome, this means that those reads are aligned with the human genome database,and these are the \"contaminating human DNA\" from our sequencing library--which is 8.57% in total.\n",
    "\n",
    "Therefore, the output.sam file contains the reads that aligned with the human genome (8.57%), which are the contaminating human DNA. And the unpaired ones that aligned 0 time (unaligned.fastq, which is 91.43%) are the filtered out ones we want."
   ]
  },
  {
   "cell_type": "markdown",
   "metadata": {},
   "source": [
    "### 2. Align the reads to the S. oneidensis reference genome\n",
    "Now, let’s find out how well your bacterium was sequenced. Run bowtie2 again, using the filtered reads you obtained in the previous step as input and the Shewanella reference genome as a database.\n",
    "\n"
   ]
  },
  {
   "cell_type": "markdown",
   "metadata": {},
   "source": [
    "#### In terminal:\n",
    "#### bowtie2 –p 4 --very-fast --no-unal -x /data/lab6/shewanella_oneidensis_mr-1 \\-U ~/lab6_Joanne/unaligned.fastq -S output2.sam --un unaligned2.fastq\n",
    "\n",
    "In the unaligned2.fastq this contains the reads that are not aligned to the S. oneidensis. \n",
    "\n",
    "#### Result (output message):\n",
    "1028379 reads; of these:      \n",
    "  1028379 (100.00%) were unpaired; of these:     \n",
    "    299560 (29.13%) aligned 0 times     \n",
    "    687571 (66.86%) aligned exactly 1 time     \n",
    "    41248 (4.01%) aligned >1 times     \n",
    "70.87% overall alignment rate    \n",
    "\n",
    "#### Analysis:\n",
    "According to the output, the output2.sam contains reads that are aligned to the S. oneidensis (70.87%, which is the one we want). And the unaligned2.fastq contains what our filtered library does not aligned with S. oneidensis genome (29.13%)\n",
    "\n",
    "If using the --very-sensitive instead of --very-fast, the results output was the same (aligned percentage=70.87%)"
   ]
  },
  {
   "cell_type": "markdown",
   "metadata": {},
   "source": [
    "### 3. Generate a coverage plot\n",
    "At this point, you should have a SAM file containing the alignment of your filtered reads to the\n",
    "S. oneidensis reference genome. Referring to the PowerPoint, please convert this file to BAM,\n",
    "sort it, index it, and use “depth” to generate a file containing the depth of coverage for every\n",
    "position in the reference genome."
   ]
  },
  {
   "cell_type": "markdown",
   "metadata": {},
   "source": [
    "#### In terminal: \n",
    "samtools view -b output2.sam > output2.bam\n",
    "\n",
    "- This converts sam file into bam file\n",
    "\n",
    "samtools sort output2.bam > output2.sorted.bam\n",
    "\n",
    "- This sorted the bam file by coordinates\n",
    "\n",
    "samtools index output2.sorted.bam\n",
    "\n",
    "- This created index of the bam file\n",
    "\n",
    "samtools depth -a output2.sorted.bam > pileup.tab\n",
    "\n",
    "- This generates a list of coordinates in a genome and the number of times a read aligned to that position\n"
   ]
  },
  {
   "cell_type": "markdown",
   "metadata": {},
   "source": [
    "#### Generating plots\n",
    "In order to generate a scatter plot, first pull the data from pileup.tab into two separated integer list by using delimiter \\t (this separates the tab file by columns). Import csv in this case to read the tab file.        \n",
    "x list= position in genome   \n",
    "y list= depth of coverage      \n",
    "After making the two lists, import numpy and matplotlib to plot out the data into a scatter plot.With x-axis the position in genome and y-axis the coverage depth.   \n",
    "\n",
    "For plotting a histogram, we only need the depth of coverage to plot (y list). This gives a histogram with depth of coverage on the x-axis and the counts on how many positions have that coverage on the y-axis.    \n",
    "Below also gives the min, max and average value of the depth of coverage across all positions in the genome."
   ]
  },
  {
   "cell_type": "code",
   "execution_count": 18,
   "metadata": {},
   "outputs": [
    {
     "name": "stdout",
     "output_type": "stream",
     "text": [
      "The minimum coverage: \n",
      "1\n",
      "The maximum coverage: \n",
      "269\n",
      "The average coverage: \n",
      "36.95638840970833\n"
     ]
    }
   ],
   "source": [
    "import numpy as np\n",
    "import matplotlib.pyplot as plt\n",
    "import csv\n",
    "\n",
    "y = []           #list of depth coverage values\n",
    "\n",
    "with open('pileup.tab','r') as csvfile:\n",
    "    plots = csv.reader(csvfile, delimiter='\\t')    #split up the values by columns\n",
    "    for i in plots:\n",
    "        y.append(int(i[2]))          #adding each value read into list y\n",
    "print(\"The minimum coverage: \")\n",
    "print(min(y))\n",
    "print(\"The maximum coverage: \")\n",
    "print(max(y))\n",
    "print(\"The average coverage: \")\n",
    "print(np.mean(y))"
   ]
  },
  {
   "cell_type": "code",
   "execution_count": 19,
   "metadata": {},
   "outputs": [
    {
     "data": {
      "image/png": "[encoded data removed]",
      "text/plain": [
       "<Figure size 432x288 with 1 Axes>"
      ]
     },
     "metadata": {
      "needs_background": "light"
     },
     "output_type": "display_data"
    }
   ],
   "source": [
    "%matplotlib inline\n",
    "import numpy as np\n",
    "import matplotlib.pyplot as plt\n",
    "import csv\n",
    "\n",
    "x = []       #list of positions in genome\n",
    "y = []       #list of depth of coverage\n",
    "\n",
    "with open('pileup.tab','r') as csvfile:\n",
    "    plots = csv.reader(csvfile, delimiter='\\t')\n",
    "    for i in plots:\n",
    "        x.append(int(i[1]))   #adding each value read into list x\n",
    "        y.append(int(i[2]))   #adding each value read into list y\n",
    "\n",
    "plt.ylabel('Depth of Coverage')\n",
    "plt.xlabel('Position in Genome')\n",
    "plt.xticks(np.arange(0, 6000000, 1000000)) #adding x-axis ticks\n",
    "plt.yticks(np.arange(0, 400, 50))          #adding y-axis ticks\n",
    "plt.scatter(x,y) \n",
    "plt.show()"
   ]
  },
  {
   "cell_type": "code",
   "execution_count": 21,
   "metadata": {},
   "outputs": [
    {
     "data": {
      "image/png": "[encoded data removed]",
      "text/plain": [
       "<Figure size 432x288 with 1 Axes>"
      ]
     },
     "metadata": {
      "needs_background": "light"
     },
     "output_type": "display_data"
    }
   ],
   "source": [
    "%matplotlib inline\n",
    "import numpy as np\n",
    "import matplotlib.pyplot as plt\n",
    "import csv\n",
    "\n",
    "y = []\n",
    "\n",
    "with open('pileup.tab','r') as csvfile:\n",
    "    plots = csv.reader(csvfile, delimiter='\\t')\n",
    "    for i in plots:\n",
    "        y.append(int(i[2]))\n",
    "\n",
    "plt.xlabel('Depth of Coverage')\n",
    "plt.ylabel('Count')\n",
    "\n",
    "plt.axis([0, 100, 0, 700000])         #defining the x and y-axis\n",
    "plt.hist(y,bins=80)                   #bins mean the number of n that would be plotted out\n",
    "plt.show()\n"
   ]
  },
  {
   "cell_type": "markdown",
   "metadata": {},
   "source": [
    "#### Analysis:\n",
    "The scatter plot shows the depth of coverage in each position in the genome. By calculation, we found out that the minimum coverage value is 1, maximum is 269, and the mean is around 37 across all positions in genome.According to the plot, there are 2 peaks of depth of coverage which appear between position 3000000 and 5000000 in genome.    \n",
    "The histogram shows a distribution of counts of position for the depth of coverage values. According to the plot, most counts appear at deapth of coverage= 40, and the count is nearly 700000."
   ]
  },
  {
   "cell_type": "code",
   "execution_count": null,
   "metadata": {},
   "outputs": [],
   "source": []
  }
 ],
 "metadata": {
  "kernelspec": {
   "display_name": "Python 3",
   "language": "python",
   "name": "python3"
  },
  "language_info": {
   "codemirror_mode": {
    "name": "ipython",
    "version": 3
   },
   "file_extension": ".py",
   "mimetype": "text/x-python",
   "name": "python",
   "nbconvert_exporter": "python",
   "pygments_lexer": "ipython3",
   "version": "3.6.6"
  }
 },
 "nbformat": 4,
 "nbformat_minor": 2
}
