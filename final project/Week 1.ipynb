{
 "cells": [
  {
   "cell_type": "markdown",
   "metadata": {},
   "source": [
    " ## Genome Assembly\n",
    " #### Team members: Joanne Chang, Hannah Verdonk, Jackie Chandler, Ryan Trujillo   \n",
    " \n",
    " We assembled our provided metagenome using the SPAdes program preinstalled on the BioE131 server.\n",
    " Here is the command we used to run SPAdes on the reads we were provided with:\n",
    " > -1: path to the forward reads  \n",
    " -2: path to the reverse reads  \n",
    " --pacbio: path to the PacBio reads  \n",
    " -t: number of cores used (only used one so that other students could also use the machine)  \n",
    " -m: memory used (again, kept low so other students could use the machine)  \n",
    " -o: path where I wanted my output to go  \n",
    " \n",
    "```spades.py --meta -1 /data/metagenomes/160523Alm_D16-4704_1_sequence.fastq.gz -2 /data/metagenomes/160523Alm_D16-4704_2_sequence.fastq.gz -t 1 -m 16 -o ~/\"Hannah Verdonk\"/\"Final Project\"```\n",
    "\n",
    "Running on screen 25149.pts-261.meowth\n",
    "\n",
    "## Because there is memory error when running spades (ran out of memory), contigs are not yet produced to make the histogram."
   ]
  },
  {
   "cell_type": "markdown",
   "metadata": {},
   "source": [
    "### Histogram: (here is the code for making the histogram)"
   ]
  },
  {
   "cell_type": "code",
   "execution_count": null,
   "metadata": {},
   "outputs": [],
   "source": [
    "import numpy as np \n",
    "from matplotlib import pyplot as plt \n",
    "\n",
    "contigLengths = np.array([])\n",
    "bins = []\n",
    "# code here filling contigLengths with our contig lengths, and bins with our x axis contig ranges for each bar\n",
    "plt.hist(contigLengths, bins)\n",
    "plt.title(\"Contig Lengths\")\n",
    "plt.show()\n",
    "\n",
    "ax.annotate('N50 = xxxx', xy=(2, 1), xytext=(3, 1.5), arrowprops=dict(facecolor='black', shrink=0.05),)"
   ]
  },
  {
   "cell_type": "markdown",
   "metadata": {},
   "source": [
    "### Summary of Onecodex results:\n",
    "#### Relative abundances in genus level:     \n",
    "Megagenome 4704-1:    \n",
    "- Cutibacterium: 41.04%\n",
    "- Mycobacterium: 1.051%\n",
    "- Ralstonia: 1.427%\n",
    "- Gardnerella: 1.193%\n",
    "- Corynebacterium: N/A\n",
    "- Acinetobacter: 1.179%\n",
    "- Pantoea: 1.767%\n",
    "- Streptococcus: 4.459%\n",
    "- Pseudomonas: 2.469%\n",
    "- Staphylococcus: 7.619%\n",
    "- Enhydrobacter: N/A\n",
    "- Escherichia: 13.25%\n",
    "- Propionibacterium: N/A\n",
    "- No genus: 20.78%\n",
    "- other: 3.772%\n",
    "\n",
    "\n",
    "Megagenome 4704-2:    \n",
    "- Cutibacterium: N/A\n",
    "- Mycobacterium: N/A\n",
    "- Ralstonia: 1.034%\n",
    "- Gardnerella: 1.069%\n",
    "- Corynebacterium: 1.395%\n",
    "- Acinetobacter: 1.557%\n",
    "- Pantoea: 1.587%\n",
    "- Streptococcus: 3.359%\n",
    "- Pseudomonas: 3.479%\n",
    "- Staphylococcus: 7.049%\n",
    "- Enhydrobacter: 8.783%\n",
    "- Escherichia: 12.16%\n",
    "- Propionibacterium: 35.53%\n",
    "- No genus: 18.18%\n",
    "- other: 4.807%\n",
    "\n",
    "  \n",
    "#### Table of results:  \n",
    "  \n",
    "genus | 4704-1 | 4704-2 \n",
    "--- | --- | --- \n",
    "Cutibacterium | 41.04% | N/A \n",
    "Mycobacterium | 1.051% | N/A \n",
    "Ralstonia | 1.427% | 1.034% \n",
    "Gardnerella | 1.193% | 1.069% \n",
    "Corynebacterium | N/A | 1.395% \n",
    "Acinetobacter | 1.179% | 1.557% \n",
    "Pantoea | 1.767% | 1.587% \n",
    "Streptococcus | 4.459% | 3.359% \n",
    "Pseudomonas | 2.469% | 3.479% \n",
    "Staphylococcus | 7.619% | 7.049% \n",
    "Enhydrobacter | N/A | 8.783% \n",
    "Escherichia | 13.25% | 12.16% \n",
    "Propionibacterium | N/A | 35.53% \n",
    "No genus | 20.78% | 18.18% \n",
    "other | 3.772% | 4.807% \n"
   ]
  },
  {
   "cell_type": "code",
   "execution_count": null,
   "metadata": {},
   "outputs": [],
   "source": []
  }
 ],
 "metadata": {
  "kernelspec": {
   "display_name": "Python 3",
   "language": "python",
   "name": "python3"
  },
  "language_info": {
   "codemirror_mode": {
    "name": "ipython",
    "version": 3
   },
   "file_extension": ".py",
   "mimetype": "text/x-python",
   "name": "python",
   "nbconvert_exporter": "python",
   "pygments_lexer": "ipython3",
   "version": "3.6.6"
  }
 },
 "nbformat": 4,
 "nbformat_minor": 2
}
