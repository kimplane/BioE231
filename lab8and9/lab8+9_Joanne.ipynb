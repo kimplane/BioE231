{
 "cells": [
  {
   "cell_type": "markdown",
   "metadata": {},
   "source": [
    "## Lab 8:"
   ]
  },
  {
   "cell_type": "markdown",
   "metadata": {},
   "source": [
    "### 1. Locating your data\n",
    "- DNA from an unknown bacterium was sequenced using PacBio and Illumina technologies. The resulting reads are in /data/lab8. You should not have to copy them to your home directory.  \n",
    "Here is the command line:     \n",
    "```illumina_reads_R1.fastq – first paired-end read illumina_reads_R2.fastq – second paired-end read pacbio_reads.fastq – long PacBio reads```"
   ]
  },
  {
   "cell_type": "markdown",
   "metadata": {},
   "source": [
    "### 2. Running SPAdes\n",
    "Why do we expect short reads to produce a more fragmented assembly than long reads?    \n",
    "- shorts reads should contain their own unique motifs and seqeunces and so on. So for a combined short reads it should contain more fragmentation than the long reads. \n",
    "Why does a single-molecule sequencing like PacBio have a higher error rate than Illumina?\n",
    "- PacBio is a long-tead set. So if something messed up in one single position the whole long read will be messed up, which means a higher error rate.\n",
    "\n",
    "#### This is my Spade command line:\n",
    "```spades.py -1 /data/lab8/illumina_reads_R1.fastq -2 /data/lab8/illumina_reads_R2.fastq --pacbio /data/lab8/pacbio_reads.fastq -t 1 -o /home/be131-07/lab8_Joanne```\n",
    "\n",
    "do detach from screen by command control+A+D\n",
    "- the screen will continue running even logged off, run overnight to get the result."
   ]
  },
  {
   "cell_type": "markdown",
   "metadata": {},
   "source": [
    "## Lab 9:"
   ]
  },
  {
   "cell_type": "markdown",
   "metadata": {},
   "source": [
    "### 1. Generate assembly statistics\n",
    "- Using the assembly-stats program, please calculate statistics on both your contigs and scaffolds file. Report the total length of all contigs (or scaffolds), the number of contigs (or scaffolds), and the N50 in your iPython notebook."
   ]
  },
  {
   "cell_type": "markdown",
   "metadata": {},
   "source": [
    "#### stats for contigs.fasta:   \n",
    "\n",
    "Here is the command:   \n",
    "```assembly-stats contigs.fasta```     \n",
    "\n",
    "sum = 6678635, n = 176, ave = 37946.79, largest = 414008     \n",
    "N50 = 234690, n = 11     \n",
    "N60 = 202142, n = 14     \n",
    "N70 = 154232, n = 18     \n",
    "N80 = 103367, n = 23     \n",
    "N90 = 81286, n = 30      \n",
    "N100 = 128, n = 176      \n",
    "N_count = 0      \n",
    "Gaps = 0      \n",
    "\n",
    "Total length: 6678635 bp    \n",
    "Number of contigs: 176     \n",
    "N50 = 234690, n = 11     \n",
    "\n",
    "#### stats for scaffolds.fasta:      \n",
    "\n",
    "Here is the command:   \n",
    "```assembly-stats scaffolds.fasta``` \n",
    "\n",
    "sum = 6678655, n = 174, ave = 38383.07, largest = 414008     \n",
    "N50 = 234690, n = 11     \n",
    "N60 = 202142, n = 14     \n",
    "N70 = 154232, n = 18      \n",
    "N80 = 103367, n = 23     \n",
    "N90 = 81821, n = 30     \n",
    "N100 = 128, n = 174     \n",
    "N_count = 20     \n",
    "Gaps = 2      \n",
    "\n",
    "Total length: 6678655 bp    \n",
    "Number of contigs: 174      \n",
    "N50 = 234690, n = 11      \n",
    "\n",
    "#### Why is N50 is useful statistic to calculate? Why not just list the mean or median contig length?\n",
    "- N50 gives not only the median length, but also summing those shorter contigs that are also shorter than the median length. In order words, this gives out more possible combinations in the total genome pool of contigs.Also N50 is weighted towards large number in a pool so that N50 can consider in those shorter contigs and will not be thrown off.\n",
    "\n",
    "\n",
    "#### In your assembly, are scaffolds longer than contigs, or are scaffolds approximately equal to contigs?\n",
    "- The scaffolds is approximately equal to contigs in length, which makes sense that there is only 2 gaps in the scaffolds, so the length of contigs and scaffolds should be similar.\n"
   ]
  },
  {
   "cell_type": "markdown",
   "metadata": {},
   "source": [
    "### 2. Identify the taxon from which your genome originated\n",
    "To identify your genome, you must        \n",
    "1) scan over the entire genome to locate copies of the 16S ribosomal RNA gene,       \n",
    "2) extract the 16S rRNA genes from your assembly, and       \n",
    "3) compare these genes to a database of known 16S rRNA genes.      "
   ]
  },
  {
   "cell_type": "markdown",
   "metadata": {},
   "source": [
    "First, run the rna_hmm3.py program on your assembled contigs to locate rRNA genes. You must\n",
    "specify a path to the input assembly with -i and a path to the output General Feature Format\n",
    "(GFF) annotation file with -o. This program uses a Hidden Markov Model (HMM) that describes\n",
    "the structure of ribosomal RNA genes to find their coordinates inside a genome. After this\n",
    "program completes, delete all lines within other than those containing 16S_rRNA genes.\n",
    "\n",
    "\n",
    "\n",
    "\n",
    "\n",
    "Here is the command:    \n",
    "```rna_hmm3.py -i ~/lab8_Joanne/contigs.fasta -o ~/lab8_Joanne/contigs.gff```    \n",
    "\n",
    "This produces a contigs.gff file.\n"
   ]
  },
  {
   "cell_type": "markdown",
   "metadata": {},
   "source": [
    "Next, use bedtools getfasta to extract nucleic acid sequences of the 16S rRNA genes from\n",
    "your assembly. You will need to specify the path to contigs.fasta with -fi and the path to the\n",
    "GFF file you obtained above, with -bed. The output will be in FASTA format.\n",
    "\n",
    "Here is the command:     \n",
    "```bedtools getfasta -fi ~/lab8_Joanne/contigs.fasta -bed contigs.gff```      \n",
    "\n",
    "This produces a contigs.fasta.fai file.   \n"
   ]
  },
  {
   "cell_type": "markdown",
   "metadata": {},
   "source": [
    "Finally, open your web browser and head over to Ribosomal Database Project’s SeqMatch tool.\n",
    "Copy and paste your 16S sequences one at a time into the window, or upload the resulting\n",
    "FASTA file from the previous step. This program will attempt to identify the 16S sequences as\n",
    "precisely as possible by comparing them to a database of high-quality, curated sequences,\n",
    "obtained from known bacteria.    \n",
    "\n",
    "1. NODE_23_length_103367_cov_10.081286:35530-37075       \n",
    "rootrank Root (1) (query sequences)            \n",
    "       domain Bacteria  (1)     \n",
    "          phylum \"Proteobacteria\"  (1)     \n",
    "             class Gammaproteobacteria  (1)      \n",
    "                order Pseudomonadales  (1)     \n",
    "                   family Pseudomonadaceae  (1)      \n",
    "                      genus Pseudomonas  (1)      \n",
    "\n",
    "2. NODE_18_length_154232_cov_9.584186:124541-126086          \n",
    "rootrank Root (1) (query sequences)            \n",
    "       domain Bacteria  (1)      \n",
    "          phylum \"Proteobacteria\"  (1)     \n",
    "             class Gammaproteobacteria  (1)       \n",
    "                order Pseudomonadales  (1)       \n",
    "                   family Pseudomonadaceae  (1)       \n",
    "                      genus Pseudomonas  (1)      \n",
    "                      \n",
    "3. NODE_5_length_327223_cov_9.241629:46285-47830    \n",
    "rootrank Root (1) (query sequences)            \n",
    "       domain Bacteria  (1)      \n",
    "          phylum \"Proteobacteria\"  (1)      \n",
    "             class Gammaproteobacteria  (1)     \n",
    "                order Pseudomonadales  (1)      \n",
    "                   family Pseudomonadaceae  (1)      \n",
    "                      genus Pseudomonas  (1)       \n",
    "                      \n",
    "4. NODE_6_length_298784_cov_8.918606:13925-15470         \n",
    "rootrank Root (1) (query sequences)            \n",
    "       domain Bacteria  (1)      \n",
    "          phylum \"Proteobacteria\"  (1)      \n",
    "             class Gammaproteobacteria  (1)      \n",
    "                order Pseudomonadales  (1)      \n",
    "                   family Pseudomonadaceae  (1)      \n",
    "                      genus Pseudomonas  (1)        \n",
    "                      \n",
    "5. NODE_4_length_332509_cov_9.114046:137011-138556     \n",
    "rootrank Root (1) (query sequences)            \n",
    "       domain Bacteria  (1)       \n",
    "          phylum \"Proteobacteria\"  (1)      \n",
    "             class Gammaproteobacteria  (1)       \n",
    "                order Pseudomonadales  (1)       \n",
    "                   family Pseudomonadaceae  (1)      \n",
    "                      genus Pseudomonas  (1)        \n",
    "                     \n",
    "6. NODE_2_length_378948_cov_10.006665:348499-350044      \n",
    "rootrank Root (1) (query sequences)            \n",
    "       domain Bacteria  (1)      \n",
    "          phylum \"Proteobacteria\"  (1)      \n",
    "             class Gammaproteobacteria  (1)      \n",
    "                order Pseudomonadales  (1)       \n",
    "                   family Pseudomonadaceae  (1)      \n",
    "                      genus Pseudomonas  (1)       \n",
    "                      \n",
    "#### Analysis:      \n",
    "According to the results above, we have 6 16S rRNA to be tested. And all genus level appears to be Pseudomonas. In terms of the species level, I believe it is not possible to clearly identify the exact species since just by looking one of the rRNA, there are 20 possible species, with each species have a similar S_ab score approximately equal to 1. From the 6 rRNAs we are able to identify to genus level but not to species level (20 possible choices to determine).\n",
    "\n",
    "                     "
   ]
  },
  {
   "cell_type": "markdown",
   "metadata": {},
   "source": [
    "### 3. Genome annotation\n",
    "- In this lab, you will upload your genome to two remote annotation services that will perform the annotation automatically: RAST and BASys. There are many more annotation services, but for the sake of time, focus on only two. You must create an account to upload your genome to RAST.\n",
    "#### The configs.fasta file is uploaded to both annotation services for the annotation.\n"
   ]
  },
  {
   "cell_type": "markdown",
   "metadata": {},
   "source": [
    "### 4. Research and write-up\n",
    "- Please summarize some of the information obtained in your annotation, placing it in the context of any papers you have found and read about related taxa. Use no more than two pages of text, citing no more than two references:"
   ]
  },
  {
   "cell_type": "markdown",
   "metadata": {},
   "source": [
    "In previous part to identify the unknown bacteria by using Ribosomal Database Project’s SeqMatch tool, we had identified the unknown in genus level to be Pseudomonas. Pseudomonas is known to be a gram-negative, gammaproteobacteria, which has in total 191 different species. In the RAST results, the unknown species of bacteria has a GC content of 58.7%, an N50 of 234690 and L50 of 11. There are 176 contigs in total with PEGs. There are 393 subsystems, 6352 coding sequences, and 85 RNAs. \n",
    "\n",
    "In terms of the subsystem features that could be encoded by the genome, the largest percent is the amino acid and derivatives (20.89%, including urea cycle, arginine synthesis, polyamine metabolism and so on), the second largest is the carbohydrates (10.47%, including various carbohydrate metabolism pathways and maltose and maltodextrin utilization), and the third largest is the cofactors, vitamins, prosthetic groups, and pigments (8.93%, including biotin and thiamin synthesis, lipoic acid metabolism and so on). Finally, the fourth largest is the protein metabolism and biosynthesis (8.59%). There is no pathways encoded for photosynthesis. \n",
    "\n",
    "In terms of the related neighbors, RAST gives 30 of them, with some highest score including Pseudomonas putida KT2440, Pseudomonas aeruginosa PAO1, and Pseudomonas fluorescence PfO-1. To analyze how the Pseudomonas’ genome encoding features can play a role in affecting other synthesis pathway for medical/industrial usage, as mentioned above that the second largest subsystems from the pseudomonas can encode carbohydrates, there was a study in deleting genes of the Pseudomonas putida KT2440 in order to facilitate the polyhydroxyalkanoate production [1]. According to the paper, putida spends great carbon and energy to build up the carbohydrate components of pili and flagella. The synthesis of pili and flagella and polyhydroxyalkanoate is a competitive pathway. Therefore, if deleting 76 genes that are used to encode the pili and flagella, this will lead to less pili and flagella encoded and improve the polyhydroxyalkanoate productivity in pseudomonas putida. The increase polyhydroxyalkanoate is a natural occurring product by the bacteria, the product can be aimed for industrial use to create polyhydroxyalkanoate polymer materials that are UV stable, thermoplastic and moisture resistant. \n",
    "\n",
    "Moreover, this pseudomonas genome is also likely to encode antibiotics resistance genes to inhibit antibiotics activation. According to a study in Pseudomonas aeruginosa [2], the Pseudomonas aeruginosa is able to invoke nosocomial pneumonia and infects patients with cystic fibrosis. This is hard to treat because the pseudomonas aeruginosa is bacterial resistance to antibiotics and has strong multi-drug resistance. The antibiotics inactivation is done by a common bacterial resistance mechanism which it encodes the protein enzyme β-lactamase or penicillinase, they can hydrolyze the β-lactam ring of the antibiotics and penicillin, thus results the antibiotics and penicillin inactivation. In this paper, it mainly discusses some target methods to reduce the inflammatory response by the bacteria. A small host defense peptide, an innate dense regulator 1002 (IDR-1002) was introduced to a bacterial infected mice, and was then found out that it actually reduces the gene expression of the antibiotics resistance gene in the bacteria. \n",
    "\n",
    "Reference:     \n",
    "[1] Wang, J., et al., “Deletion of 76 genes relevant to flagella and pili formation to facilitate polyhydroxyalkanoate production in Pseudomonas putida”, Appl Microbiol Biotechnol, Oct 19, 2018, pp1-17. \n",
    "\n",
    "[2] Werth, K., et al., “Characterization of host responses during Pseudomonas aeruginosa acute lung infection in the lungs and blood and after treatment with the synthetic immunomodulatory peptide IDR-1002”, Infect Immun, Oct 15, 2018, pp1-18.\n",
    "\n",
    "\n"
   ]
  },
  {
   "cell_type": "code",
   "execution_count": null,
   "metadata": {},
   "outputs": [],
   "source": []
  }
 ],
 "metadata": {
  "kernelspec": {
   "display_name": "Python 3",
   "language": "python",
   "name": "python3"
  },
  "language_info": {
   "codemirror_mode": {
    "name": "ipython",
    "version": 3
   },
   "file_extension": ".py",
   "mimetype": "text/x-python",
   "name": "python",
   "nbconvert_exporter": "python",
   "pygments_lexer": "ipython3",
   "version": "3.6.6"
  }
 },
 "nbformat": 4,
 "nbformat_minor": 2
}
